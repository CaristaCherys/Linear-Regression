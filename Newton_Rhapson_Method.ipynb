{
  "nbformat": 4,
  "nbformat_minor": 0,
  "metadata": {
    "colab": {
      "provenance": []
    },
    "kernelspec": {
      "name": "python3",
      "display_name": "Python 3"
    },
    "language_info": {
      "name": "python"
    }
  },
  "cells": [
    {
      "cell_type": "code",
      "execution_count": null,
      "metadata": {
        "id": "Iwfs3r8QmU9v",
        "colab": {
          "base_uri": "https://localhost:8080/",
          "height": 581
        },
        "outputId": "473a8a48-b5cd-48ec-80b3-3face8a7ad79"
      },
      "outputs": [
        {
          "output_type": "stream",
          "name": "stdout",
          "text": [
            "\t || \t iteration \t ||\t x \t\t||\t f(x) \t\t||\n",
            "\t || \t  1  \t\t ||\t  60.80767  \t||\t  -48.00159  \t||\n",
            "\t || \t  2  \t\t ||\t  56.70302  \t||\t  -1.40864  \t||\n",
            "\t || \t  3  \t\t ||\t  56.5742  \t||\t  -0.00144  \t||\n"
          ]
        },
        {
          "output_type": "stream",
          "name": "stderr",
          "text": [
            "<ipython-input-1-d866f7a4bd85>:14: DeprecationWarning: scipy.misc.derivative is deprecated in SciPy v1.10.0; and will be completely removed in SciPy v1.12.0. You may consider using findiff: https://github.com/maroba/findiff or numdifftools: https://github.com/pbrod/numdifftools\n",
            "  return derivative(f,x)\n"
          ]
        },
        {
          "output_type": "execute_result",
          "data": {
            "text/plain": [
              "[<matplotlib.lines.Line2D at 0x7dd7701649d0>]"
            ]
          },
          "metadata": {},
          "execution_count": 1
        },
        {
          "output_type": "display_data",
          "data": {
            "text/plain": [
              "<Figure size 640x480 with 1 Axes>"
            ],
            "image/png": "[encoded data removed]"
          },
          "metadata": {}
        }
      ],
      "source": [
        "# Newton-Rhapson Method\n",
        "\n",
        "import numpy as np\n",
        "import math\n",
        "import pylab\n",
        "from scipy.misc import derivative\n",
        "\n",
        "#Define the function f(x) and the first derivative f'(x)\n",
        "def f(x):\n",
        "  return 0.0039*x**3 - 0.78*x**2 + 39.9*x - 467\n",
        "\n",
        "def df(x):\n",
        "  return derivative(f,x)\n",
        "\n",
        "#Define error tolerance and iterations\n",
        "maxer = 0.0001\n",
        "maxit = 100\n",
        "\n",
        "#Define initial guess\n",
        "x0 = 45\n",
        "n = 1\n",
        "p=[]\n",
        "q=[]\n",
        "\n",
        "def newton_rhapson(n,f,maxer,maxit,x0,df):\n",
        "  print('\\t || \\t iteration \\t ||\\t x \\t\\t||\\t f(x) \\t\\t||')\n",
        "  while (n<maxit):\n",
        "    fx0 = f(x0)\n",
        "    dfx0 = df(x0)\n",
        "    xbaru = x0 - (fx0/dfx0)\n",
        "    fxb = f(xbaru)\n",
        "\n",
        "    if abs(fxb) < maxer :\n",
        "      break\n",
        "\n",
        "    print('\\t || \\t ',n,' \\t\\t ||\\t ',(round(xbaru,5)),' \\t||\\t ',(round(fxb,5)),' \\t||')\n",
        "\n",
        "    x0=xbaru\n",
        "    p.append(n)\n",
        "    q.append(xbaru)\n",
        "    n+=1\n",
        "\n",
        "newton_rhapson(n,f,maxer,maxit,x0,df)\n",
        "pylab.plot(p,q,'o-')"
      ]
    }
  ]
}